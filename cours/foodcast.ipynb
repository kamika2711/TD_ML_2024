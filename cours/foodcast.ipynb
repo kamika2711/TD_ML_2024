{
 "cells": [
  {
   "cell_type": "markdown",
   "id": "24aec153",
   "metadata": {},
   "source": [
    "# Foodcast - food forecasting\n",
    "Dans ce notebook, on se propose d'explorer et comprendre les différentes briques élémentaires d'un problème de prévision hebdomadaire de chiffre d'affaire. L'introduction de [MLflow](https://mlflow.org/) se fera dans un second temps.\n",
    "\n",
    "Le jeu de données est [celui-ci](https://www.kaggle.com/henslersoftware/19560-indian-takeaway-orders) et se trouve dans le répertoire `data` du projet. Le répertoire `data/raw` contient les données telles quelles.\n",
    "\n",
    "Le scénario est le suivant : une chaîne de restauration possède plusieurs restaurants dans une ville donnée. Chaque restaurant enregistre la totalité de ses ventes. La chaîne veut pouvoir prédire son volume de chiffre d'affaire d'une semaine sur l'autre, tous établissements confondus.\n",
    "\n",
    "L'idée est de se mettre en conditions de production, avec un rythme de prédiction hebdomadaire. Chaque semaine, un pipeline de traitement et de prévision est à activer. Pour émuler ce genre d'environnements, nous avons découpé les données en batchs hebdomadaires dans `data/batchs` à l'aide du script `reformatting.py`. Par souci de simplicité, les semaines sont identifiées avec un nombre entier\n",
    "\n",
    "<img src=\"images/data.png\" style=\"width: 400px;\"/>\n",
    "\n",
    "Dans ce notebook, on aborde les étapes suivantes du pipeline :\n",
    "* [Importation des librairies](#part0)\n",
    "* [Chargement et nettoyage des données](#part1)\n",
    "* [Feature engineering sur le jeu d'entraînement (offline)](#part2)\n",
    "* [Entraînement d'un modèle prédictif](#part3)\n",
    "* [Feature engineering sur le jeu de prédiction (online)](#part4)\n",
    "* [Prévision et visualisation](#part5)\n",
    "* [Incertitudes de modélisation](#part6)\n",
    "\n",
    "**A noter :** toutes les fonctions élémentaires qui implémentent ces étapes sont **déjà codées**. Dans ce notebook, il s'agit simplement de se familiariser avec."
   ]
  },
  {
   "cell_type": "markdown",
   "id": "2369a71f",
   "metadata": {},
   "source": [
    "# Importation des librairies\n",
    "\n",
    "<a class='anchor' id='part0'></a>\n",
    "\n",
    "La structure du projet est la suivante :\n",
    "\n",
    "<img src=\"images/tree.png\" style=\"width: 300px;\"/>\n",
    "\n",
    "**A noter :** il manque le répertoire `application` du template DDD. Ce répertoire est celui qui hébergera tous nos appels à [MLflow](https://mlflow.org/), et sera construit au fur et à mesure de la présente formation.\n",
    "\n",
    "Dans la suite, nous aurons besoin des fonctions suivantes. Nous allons illustrer leur usage dans ce notebook."
   ]
  },
  {
   "cell_type": "code",
   "execution_count": null,
   "id": "b5eebbaa",
   "metadata": {},
   "outputs": [],
   "source": [
    "import sys\n",
    "sys.path.append('..')\n",
    "import yaml\n",
    "import logging\n",
    "import logging.config\n",
    "import pandas as pd\n",
    "pd.set_option('display.min_rows', 500)\n",
    "pd.set_option('display.max_rows', 500)\n",
    "pd.set_option('display.max_columns', 500)\n",
    "pd.set_option('display.width', 500)\n",
    "pd.set_option('max_colwidth', 400)\n",
    "from foodcast.domain.transform import etl\n",
    "from foodcast.domain.feature_engineering import features_offline, features_online\n",
    "from foodcast.domain.forecast import span_future, cross_validate, plotly_predictions\n",
    "from foodcast.domain.multi_model import MultiModel\n",
    "from sklearn.ensemble import RandomForestRegressor\n",
    "import foodcast.settings as settings\n",
    "import plotly.graph_objects as go\n",
    "\n",
    "with open(settings.LOGGING_CONFIGURATION_FILE, 'r') as f:\n",
    "    logging.config.dictConfig(yaml.safe_load(f.read()))\n",
    "\n",
    "%load_ext autoreload\n",
    "%autoreload 2"
   ]
  },
  {
   "cell_type": "markdown",
   "id": "9633817b",
   "metadata": {},
   "source": [
    "# Chargement et nettoyage des données\n",
    "\n",
    "<a class='anchor' id='part1'></a>\n",
    "\n",
    "Dans cette partie, on se focalise sur le pré-traitement des données.\n",
    "\n",
    "### Fonctions élémentaires\n",
    "\n",
    "Le pré-traitement qui suit se déroule en quatre étapes, chacune étant encodée dans une fonction élémentaire :\n",
    "* `extract` : charge les données d'un restaurant dans un intervalle de temps défini par l'utilisateur\n",
    "* `clean` : nettoie le jeu de donnée correspondant :\n",
    "    * homogénéisation des noms de colonnes\n",
    "    * corrections des dtypes\n",
    "    * agrégation du montant à la maille transaction\n",
    "    * suppression des colonnes inutiles\n",
    "    * tri chronologique\n",
    "* `merge` : fusionne les données de chaque restaurant en un seul dataframe représentant la chaîne de restauration\n",
    "* `resample` : réechantillonne le jeu de données à la maille heure\n",
    "\n",
    "### Exercices\n",
    "\n",
    "Ces quatre fonctions sont encapsulées dans une seule et unique fonction maître, appelée `etl`, qui fait l'objet du prochain exercice."
   ]
  },
  {
   "cell_type": "code",
   "execution_count": null,
   "id": "c19dcac9",
   "metadata": {},
   "outputs": [],
   "source": [
    "etl??"
   ]
  },
  {
   "cell_type": "markdown",
   "id": "042ecfe7",
   "metadata": {},
   "source": [
    "**Exercice :** extraire un jeu de données entièrement pré-traité pour les semaines 197 à 200.\n",
    "\n",
    "**Indice :** le nom du répertoire où se situe les données est stocké dans `settings.DATA_DIR`."
   ]
  },
  {
   "cell_type": "code",
   "execution_count": null,
   "id": "1818e615",
   "metadata": {},
   "outputs": [],
   "source": [
    "df = None"
   ]
  },
  {
   "cell_type": "markdown",
   "id": "38438f71",
   "metadata": {},
   "source": [
    "**Exercice :** tracer le chiffre d'affaire en fonction du temps avec [plotly](https://plotly.com/python/line-charts/#line-plot-with-goscatter)."
   ]
  },
  {
   "cell_type": "code",
   "execution_count": null,
   "id": "1d9e1c56",
   "metadata": {},
   "outputs": [],
   "source": [
    "fig = go.Figure()\n",
    "pass\n",
    "fig.update_layout(\n",
    "    title='Cash-in',\n",
    "    xaxis_title='date',\n",
    "    yaxis_title='dollars',\n",
    "    font=dict(\n",
    "        family='Computer Modern',\n",
    "        size=18,\n",
    "        color='#7f7f7f'\n",
    "    )\n",
    ")"
   ]
  },
  {
   "cell_type": "markdown",
   "id": "1d8f35cb",
   "metadata": {},
   "source": [
    "# Feature engineering sur le jeu d'entraînement (offline)\n",
    "\n",
    "<a class='anchor' id='part2'></a>\n",
    "\n",
    "Dans cette partie, on se focalise sur le feature engineering et la création du jeu d'entraînement.\n",
    "\n",
    "### Fonctions élémentaires\n",
    "Le feature engineering qui suit se déroule en trois étapes, chacune étant encodée dans une fonction élémentaire :\n",
    "* `dummy_day` : encode le jour de la semaine en 6 variables binaires.\n",
    "* `hour_cos_sin` : encode l'heure de la journée en 2 variables continues.\n",
    "* `lag_offline` : récupère le chiffre d'affaire d'une semaine dans le passé.\n",
    "\n",
    "Au niveau implémentation, `lag_offline` est un simple `shift` de la cible sur le jeu d'entraînement.\n",
    "\n",
    "### Exercices\n",
    "\n",
    "Ces trois fonctions sont encapsulées dans une seule et unique fonction maître, appelée `features_offline`, qui fait l'objet du prochain exercice."
   ]
  },
  {
   "cell_type": "code",
   "execution_count": null,
   "id": "2844039d",
   "metadata": {},
   "outputs": [],
   "source": [
    "features_offline??"
   ]
  },
  {
   "cell_type": "markdown",
   "id": "7c430be2",
   "metadata": {},
   "source": [
    "**Exercice :** effectuer le feature engineering sur le jeu d'entraînement obtenu précédemment."
   ]
  },
  {
   "cell_type": "code",
   "execution_count": null,
   "id": "708eb87d",
   "metadata": {},
   "outputs": [],
   "source": [
    "df = None"
   ]
  },
  {
   "cell_type": "markdown",
   "id": "eaff3a34",
   "metadata": {},
   "source": [
    "**Exercice :** vérifier à la main sur une ligne ou deux la validité de la variable `lag_1W` créée."
   ]
  },
  {
   "cell_type": "code",
   "execution_count": null,
   "id": "032bbd6e",
   "metadata": {},
   "outputs": [],
   "source": [
    "pass"
   ]
  },
  {
   "cell_type": "markdown",
   "id": "6596afee",
   "metadata": {},
   "source": [
    "### Séparation variable/cible\n",
    "\n",
    "On sépare le jeu de données obtenu en variables explicatives et variable cible, en prenant soin de conserver l'information de la date."
   ]
  },
  {
   "cell_type": "code",
   "execution_count": null,
   "id": "1205b67b",
   "metadata": {},
   "outputs": [],
   "source": [
    "# Uncomment to achieve exercise\n",
    "\n",
    "# x_train = df.drop(columns=['cash_in'])\n",
    "# y_train = df[['order_date', 'cash_in']]\n",
    "# x_train = x_train.set_index('order_date')\n",
    "# y_train = y_train.set_index('order_date')['cash_in']"
   ]
  },
  {
   "cell_type": "markdown",
   "id": "c0f6c28a",
   "metadata": {},
   "source": [
    "# Entraînement d'un modèle prédictif\n",
    "\n",
    "<a class='anchor' id='part3'></a>\n",
    "\n",
    "Dans cette partie, on se focalise sur l'entraînement d'un modèle prédictif et sa validation.\n",
    "\n",
    "### Un premier modèle\n",
    "Pour commencer, on se propose d'introduire un modèle de type forêt aléatoire avec 10 arbres. \n",
    "\n",
    "**Exercice :** créer une instance de `RandomForestRegressor` contenant 10 arbres, avec une graine aléatoire fixée (de votre choix)."
   ]
  },
  {
   "cell_type": "code",
   "execution_count": null,
   "id": "f1955b70",
   "metadata": {},
   "outputs": [],
   "source": [
    "simple_model = RandomForestRegressor(n_estimators=10, random_state=42)"
   ]
  },
  {
   "cell_type": "markdown",
   "id": "a97dd9aa",
   "metadata": {},
   "source": [
    "### Validation croisée temporelle sur le jeu d'entraînement\n",
    "\n",
    "La validation croisée temporelle est naturelle pour un problème de forecast. Elle est en fait naturelle pour tout cycle de vie des modèles sujet à une dérive des données.\n",
    "\n",
    "<img src=\"images/timeseriessplit.png\" style=\"width: 300px;\"/>\n",
    "\n",
    "C'est la fonction `cross_validate` qui l'implémente, en se basant sur [TimeSeriesSplit](https://scikit-learn.org/stable/modules/generated/sklearn.model_selection.TimeSeriesSplit.html) de scikit-learn."
   ]
  },
  {
   "cell_type": "code",
   "execution_count": null,
   "id": "f92a70b2",
   "metadata": {},
   "outputs": [],
   "source": [
    "cross_validate??"
   ]
  },
  {
   "cell_type": "markdown",
   "id": "00d82081",
   "metadata": {},
   "source": [
    "**Exercice :** valider le modèle sur le jeu d'entraînement avec trois répétitions (folds)."
   ]
  },
  {
   "cell_type": "code",
   "execution_count": null,
   "id": "31dbe773",
   "metadata": {},
   "outputs": [],
   "source": [
    "maes, preds = None, None"
   ]
  },
  {
   "cell_type": "markdown",
   "id": "51e29265",
   "metadata": {},
   "source": [
    "**Question :** en quelle unité s'exprime la MAE ? Compte tenu des patterns de consommation, est-ce vraiment un indicateur de performance pertinent ?"
   ]
  },
  {
   "cell_type": "markdown",
   "id": "78f1cab2",
   "metadata": {},
   "source": [
    "### Graphe des prédictions\n",
    "\n",
    "On peut tracer les prédictions obtenues via la fonction `plotly_predictions`."
   ]
  },
  {
   "cell_type": "code",
   "execution_count": null,
   "id": "176db702",
   "metadata": {},
   "outputs": [],
   "source": [
    "plotly_predictions??"
   ]
  },
  {
   "cell_type": "markdown",
   "id": "376f2c37",
   "metadata": {},
   "source": [
    "**Exercice :** tracer les prédictions obtenues par validation croisée, en regard de la vérité attendue."
   ]
  },
  {
   "cell_type": "code",
   "execution_count": null,
   "id": "e5c0d453",
   "metadata": {},
   "outputs": [],
   "source": [
    "pass"
   ]
  },
  {
   "cell_type": "markdown",
   "id": "7657f342",
   "metadata": {},
   "source": [
    "### Entraînement sur la totalité du jeu de données\n",
    "\n",
    "C'est la méthode `fit` de `RandomForestRegressor` qui est à l'oeuvre.\n",
    "\n",
    "**Exercice :** entraîner le modèle sur tout le jeu d'entraînement.\n",
    "\n",
    "**Indice :** on utilisera les dataframes `x_train` et `y_train` obtenus précédemment."
   ]
  },
  {
   "cell_type": "code",
   "execution_count": null,
   "id": "adc17293",
   "metadata": {},
   "outputs": [],
   "source": [
    "pass"
   ]
  },
  {
   "cell_type": "markdown",
   "id": "2b27c2ca",
   "metadata": {},
   "source": [
    "# Feature engineering sur le jeu de prédiction (online)\n",
    "\n",
    "<a class='anchor' id='part4'></a>\n",
    "\n",
    "Dans cette partie, on se focalise sur le feature engineering et la création du jeu de prédiction.\n",
    "\n",
    "### Fonctions élémentaires\n",
    "Le feature engineering qui suit se déroule en quatre étapes, chacune étant encodée dans une fonction élémentaire :\n",
    "* `span_future`: génère les dates de prédiction dans le futur.\n",
    "* `dummy_day` : encode le jour de la semaine en 6 variables binaires.\n",
    "* `hour_cos_sin` : encode l'heure de la journée en 2 variables continues.\n",
    "* `lag_online` : récupère le chiffre d'affaire d'une semaine dans le passé.\n",
    "\n",
    "### Pourquoi lag offline et lag online ?\n",
    "\n",
    "Par rapport au jeu d'entraînement, il est plus difficile de calculer un lag de chiffre d'affaire sur le jeu de prédiction car ce dernier est par définition dans le futur, et ne contient aucune information passée.\n",
    "\n",
    "Deux méthodes sont possibles :\n",
    "\n",
    "* **la méthode coûteuse en RAM :** il s'agit de concaténer `train` et `future` et de réaliser un `shift`. Si le `train` est volumineux, on occupe beaucoup d'espace mémoire alors que seule une petite quantité d'information nous intéresse.\n",
    "* **la méthode recommandée :** il s'agit de charger uniquement les observations de la semaine passée, `past`, de concaténer avec `future`, et d'effectuer un `shift`. On utilise alors peu de mémoire (une semaine de données seulement).\n",
    "\n",
    "### Exercices\n",
    "\n",
    "Ces quatre fonctions sont encapsulées dans les fonctions `span_future` et `features_online`, qui font l'objet des prochains exercices.\n",
    "\n",
    "Tout d'abord, nous générons un jeu `past` qui correspond à la semaine juste avant la semaine de prédiction.\n",
    "\n",
    "**Exercice :** créer un jeu de données nettoyées `past` décrivant la semaine 200.\n",
    "\n",
    "**Indice :** on pourra réutiliser la fonction `etl`."
   ]
  },
  {
   "cell_type": "code",
   "execution_count": null,
   "id": "9dfe2e19",
   "metadata": {},
   "outputs": [],
   "source": [
    "past = None"
   ]
  },
  {
   "cell_type": "markdown",
   "id": "31af0f82",
   "metadata": {},
   "source": [
    "Ensuite, il faut générer le jeu de prédiction, c'est la fonction `span_future` qui s'y attèle."
   ]
  },
  {
   "cell_type": "code",
   "execution_count": null,
   "id": "b7da963d",
   "metadata": {},
   "outputs": [],
   "source": [
    "span_future??"
   ]
  },
  {
   "cell_type": "markdown",
   "id": "87574821",
   "metadata": {},
   "source": [
    "**Exercice :** générer un dataframe de dates à prédire dans le futur du jeu d'entraînement.\n",
    "\n",
    "**Indice :** on pourra utiliser `past['order_date'].max()` en guise de point de départ."
   ]
  },
  {
   "cell_type": "code",
   "execution_count": null,
   "id": "dac35c99",
   "metadata": {},
   "outputs": [],
   "source": [
    "future = None"
   ]
  },
  {
   "cell_type": "markdown",
   "id": "b3d1cc1f",
   "metadata": {},
   "source": [
    "Toutes les étapes de feature engineering online sont rassemblées dans la fonction `features_online`."
   ]
  },
  {
   "cell_type": "code",
   "execution_count": null,
   "id": "0a95a9bb",
   "metadata": {},
   "outputs": [],
   "source": [
    "features_online??"
   ]
  },
  {
   "cell_type": "markdown",
   "id": "1c674214",
   "metadata": {},
   "source": [
    "**Exercice :** créer un jeu de prédiction `future`, en utilisant la méthode recommandée de lag online (voir ci-dessus)."
   ]
  },
  {
   "cell_type": "code",
   "execution_count": null,
   "id": "172e4dc0",
   "metadata": {},
   "outputs": [],
   "source": [
    "future = None"
   ]
  },
  {
   "cell_type": "markdown",
   "id": "60ef44db",
   "metadata": {},
   "source": [
    "**Exercice :** vérifier à la main sur une ligne ou deux la validité de la variable créée.\n",
    "\n",
    "**Indice :** on pourra par exemple regarder en détail les variables calculées au 5 novembre 2018 à 18h."
   ]
  },
  {
   "cell_type": "code",
   "execution_count": null,
   "id": "91a76fd7",
   "metadata": {},
   "outputs": [],
   "source": [
    "pass"
   ]
  },
  {
   "cell_type": "markdown",
   "id": "6f51b67b",
   "metadata": {},
   "source": [
    "On garde l'information sur la date dans l'index du jeu de prédiction."
   ]
  },
  {
   "cell_type": "code",
   "execution_count": null,
   "id": "1e949504",
   "metadata": {},
   "outputs": [],
   "source": [
    "# Uncomment to achieve exercise\n",
    "\n",
    "# future = future.set_index('order_date')"
   ]
  },
  {
   "cell_type": "markdown",
   "id": "3a4550ae",
   "metadata": {},
   "source": [
    "# Prévision et visualisation\n",
    "\n",
    "<a class='anchor' id='part5'></a>\n",
    "\n",
    "Dans cette partie, on se concentre sur la prédiction du chiffre d'affaire dans le futur du jeu d'entraînement.\n",
    "\n",
    "### Prédiction du chiffre d'affaires\n",
    "\n",
    "C'est la méthode `predict` de `RandomForestRegressor` qui entre en jeu."
   ]
  },
  {
   "cell_type": "markdown",
   "id": "7bc8d384",
   "metadata": {},
   "source": [
    "**Exercice :** prédire le chiffre d'affaire sur le jeu de prédiction. \n",
    "\n",
    "**Indice :** on rangera les prédictions dans un `DataFrame` avec le même index que `future` et une seule colonne intitulée `y_pred_simple`."
   ]
  },
  {
   "cell_type": "code",
   "execution_count": null,
   "id": "70fa8224",
   "metadata": {},
   "outputs": [],
   "source": [
    "y_pred = None"
   ]
  },
  {
   "cell_type": "markdown",
   "id": "ba17a937",
   "metadata": {},
   "source": [
    "### Visualisation des prédictions\n",
    "\n",
    "On peut tracer les prédictions obtenues via la fonction `plotly_predictions`."
   ]
  },
  {
   "cell_type": "markdown",
   "id": "99f83674",
   "metadata": {},
   "source": [
    "**Exercice :** tracer les prévisions de chiffre d'affaires sur le jeu de prédiction. "
   ]
  },
  {
   "cell_type": "code",
   "execution_count": null,
   "id": "4810571c",
   "metadata": {},
   "outputs": [],
   "source": [
    "pass"
   ]
  },
  {
   "cell_type": "markdown",
   "id": "cffc7da9",
   "metadata": {},
   "source": [
    "# Incertitudes de modélisation\n",
    "\n",
    "<a class='anchor' id='part6'></a>\n",
    "\n",
    "Dans cette partie, on se propose d'ajouter une incertitude à nos prédictions. Une manière simple d'obtenir une incertitude sur les résultats est de perturber aussi bien le jeu de données que le modèle, comme illustré ci-contre.\n",
    "\n",
    "<img src=\"images/multimodel.png\" style=\"width: 500px;\"/>\n",
    "\n",
    "C'est la classe `MultiModel` qui implémente ce schéma : \n",
    "* bootstrap sur les données\n",
    "* variation de graine aléatoire du modèle (si elle existe). \n",
    "\n",
    "D'un point de vue design pattern, il s'agit d'un [décorateur](https://refactoring.guru/design-patterns/decorator)."
   ]
  },
  {
   "cell_type": "code",
   "execution_count": null,
   "id": "eab1a4b6",
   "metadata": {},
   "outputs": [],
   "source": [
    "MultiModel?"
   ]
  },
  {
   "cell_type": "markdown",
   "id": "c039bc35",
   "metadata": {},
   "source": [
    "**Exercice :** implémenter un `MultiModel` contenant 10 répliques de `simple_model`."
   ]
  },
  {
   "cell_type": "code",
   "execution_count": null,
   "id": "3a0b0636",
   "metadata": {},
   "outputs": [],
   "source": [
    "multi_model = None"
   ]
  },
  {
   "cell_type": "markdown",
   "id": "83d4315c",
   "metadata": {},
   "source": [
    "### Validation croisée temporelle sur le jeu d'entraînement"
   ]
  },
  {
   "cell_type": "markdown",
   "id": "d2915ff7",
   "metadata": {},
   "source": [
    "**Exercice :** valider le modèle sur le jeu d'entraînement avec trois répétitions (folds).\n",
    "\n",
    "**Indice :** la syntaxe est identique à celle utilisée pour `simple_model`."
   ]
  },
  {
   "cell_type": "code",
   "execution_count": null,
   "id": "5819b768",
   "metadata": {},
   "outputs": [],
   "source": [
    "maes, preds = None, None"
   ]
  },
  {
   "cell_type": "markdown",
   "id": "58b330b3",
   "metadata": {},
   "source": [
    "**Question :** quelle est la moyenne et l'écart-type des MAEs sur chaque répétition de la validation croisée ?\n",
    "\n",
    "**Indice :** `axis=1`"
   ]
  },
  {
   "cell_type": "code",
   "execution_count": null,
   "id": "26963211",
   "metadata": {},
   "outputs": [],
   "source": [
    "pass"
   ]
  },
  {
   "cell_type": "markdown",
   "id": "dc2b5ed3",
   "metadata": {},
   "source": [
    "### Graphe des prédictions\n",
    "\n",
    "On peut tracer les prédictions obtenues via la fonction `plotly_predictions`. Cette fonction gère bien les prédictions d'un multi-modèle. En particulier, elle ne trace pas une courbe de prédiction mais une *plage* de prédictions."
   ]
  },
  {
   "cell_type": "markdown",
   "id": "5c0cd8b6",
   "metadata": {},
   "source": [
    "**Exercice :** tracer les prédictions obtenues par validation croisée, en regard de la vérité attendue.\n",
    "\n",
    "**Indice :** la syntaxe est identique à celle utilisée pour `simple_model`."
   ]
  },
  {
   "cell_type": "code",
   "execution_count": null,
   "id": "27ba7ab1",
   "metadata": {},
   "outputs": [],
   "source": [
    "pass"
   ]
  },
  {
   "cell_type": "markdown",
   "id": "936d0c88",
   "metadata": {},
   "source": [
    "### Entraînement sur la totalité du jeu de données\n",
    "\n",
    "C'est la méthode `fit` de `MultiModel` qui est à l'oeuvre."
   ]
  },
  {
   "cell_type": "code",
   "execution_count": null,
   "id": "c27483f2",
   "metadata": {},
   "outputs": [],
   "source": [
    "MultiModel.fit??"
   ]
  },
  {
   "cell_type": "markdown",
   "id": "2834c0f5",
   "metadata": {},
   "source": [
    "**Exercice :** entraîner le modèle sur tout le jeu d'entraînement.\n",
    "\n",
    "**Indice :** on utilisera les dataframes `x_train` et `y_train` obtenus précédemment."
   ]
  },
  {
   "cell_type": "code",
   "execution_count": null,
   "id": "33954331",
   "metadata": {},
   "outputs": [],
   "source": [
    "pass"
   ]
  },
  {
   "cell_type": "markdown",
   "id": "68671984",
   "metadata": {},
   "source": [
    "### Prédiction du chiffre d'affaires\n",
    "\n",
    "C'est la méthode `predict` de `MultiModel` qui entre en jeu."
   ]
  },
  {
   "cell_type": "code",
   "execution_count": null,
   "id": "1eebf1e0",
   "metadata": {},
   "outputs": [],
   "source": [
    "MultiModel.predict??"
   ]
  },
  {
   "cell_type": "markdown",
   "id": "2ac922b0",
   "metadata": {},
   "source": [
    "**Exercice :** prédire le chiffre d'affaire sur le jeu de prédiction.\n",
    "\n",
    "**Indice :** on fera attention à l'API non-standard de la méthode `predict`. En effet, la méthode `predict` contient un argument supplémentaire, le `context`. Cette spécificité est nécessaire pour être compatible avec [MLflow](https://mlflow.org/), mais deviendra invisible par la suite."
   ]
  },
  {
   "cell_type": "code",
   "execution_count": null,
   "id": "b58dc3b9",
   "metadata": {},
   "outputs": [],
   "source": [
    "y_pred = None"
   ]
  },
  {
   "cell_type": "markdown",
   "id": "19559e4f",
   "metadata": {},
   "source": [
    "### Visualisation des prédictions avec incertitude\n",
    "\n",
    "On peut tracer les prédictions obtenues via la fonction `plotly_predictions`."
   ]
  },
  {
   "cell_type": "markdown",
   "id": "7d874ad5",
   "metadata": {},
   "source": [
    "**Exercice :** tracer les prévisions de chiffre d'affaires sur le jeu de prédiction. \n",
    "\n",
    "**Indice :** la syntaxe est identique à celle utilisée pour `simple_model`."
   ]
  },
  {
   "cell_type": "code",
   "execution_count": null,
   "id": "a0b53c2f",
   "metadata": {},
   "outputs": [],
   "source": [
    "pass"
   ]
  },
  {
   "cell_type": "markdown",
   "id": "520d2123",
   "metadata": {},
   "source": [
    "# Félicitations !\n",
    "\n",
    "Vous maîtrisez maintenant le code food forecasting et vous avez implémenté un modèle [compatible avec MLflow](https://www.mlflow.org/docs/latest/models.html#model-customization) !\n",
    "\n",
    "### Pour aller plus loin\n",
    "\n",
    "Dans le notebook suivant, nous aborderons :\n",
    "* le tracking et la reproductibilité\n",
    "* le packaging de modèles\n",
    "* la visualisation dans l'interface graphique"
   ]
  }
 ],
 "metadata": {
  "jupytext": {
   "formats": "ipynb,md"
  },
  "kernelspec": {
   "display_name": "foodcast",
   "language": "python",
   "name": "foodcast"
  }
 },
 "nbformat": 4,
 "nbformat_minor": 5
}
