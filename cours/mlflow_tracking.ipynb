{
 "cells": [
  {
   "cell_type": "markdown",
   "id": "58fd96d5",
   "metadata": {},
   "source": [
    "# MLflow tracking\n",
    "\n",
    "Dans ce notebook, on se propose d'implémenter la chaîne de traitement du problème *food forecasting* en interaction avec les API [tracking](https://www.mlflow.org/docs/latest/tracking.html) et [flavours](https://www.mlflow.org/docs/latest/models.html#model-customization) de [MLflow](https://mlflow.org/).\n",
    "\n",
    "<img src=\"images/mlflow_tracking.jpg\" style=\"width: 600px;\"/>"
   ]
  },
  {
   "cell_type": "markdown",
   "id": "64ffa333",
   "metadata": {},
   "source": [
    "Dans la suite, on se propose de comparer deux manières de travailler :\n",
    "* [MLflow tracking : tutoriel](#part1)\n",
    "    * [Générer des logs](#spart11)\n",
    "    * [Organiser les logs dans des runs](#spart12)\n",
    "    * [Organiser les runs dans des expériences](#spart13)\n",
    "* [Chaîne de traitement foodcast avec MLflow](#part2)\n",
    "    * [Loading](#spart21)\n",
    "    * [Offline feature engineering](#spart22)\n",
    "    * [Validating](#spart23)\n",
    "    * [Training](#spart24)\n",
    "    * [Online feature engineering](#spart25)\n",
    "    * [Predicting](#spart26)"
   ]
  },
  {
   "cell_type": "markdown",
   "id": "06e5593b",
   "metadata": {},
   "source": [
    "___\n",
    "# MLflow tracking : tutoriel\n",
    "\n",
    "<a class='anchor' id='part1'></a>\n",
    "\n",
    "Dans cette partie, nous allons découvrir les principes de base de [MLflow tracking](https://www.mlflow.org/docs/latest/tracking.html)."
   ]
  },
  {
   "cell_type": "code",
   "execution_count": null,
   "id": "3e40e9ba",
   "metadata": {},
   "outputs": [],
   "source": [
    "import os\n",
    "import sys\n",
    "sys.path.append('..')\n",
    "import yaml\n",
    "import logging\n",
    "import logging.config\n",
    "from foodcast.domain.transform import etl\n",
    "from foodcast.domain.multi_model import MultiModel\n",
    "from foodcast.application.mlflow_utils import mlflow_log_pandas, mlflow_log_plotly\n",
    "from sklearn.ensemble import RandomForestRegressor\n",
    "import foodcast.settings as settings\n",
    "import mlflow\n",
    "import mlflow.sklearn\n",
    "import mlflow.pyfunc\n",
    "\n",
    "with open(settings.LOGGING_CONFIGURATION_FILE, 'r') as f:\n",
    "    logging.config.dictConfig(yaml.safe_load(f.read()))\n",
    "\n",
    "%load_ext autoreload\n",
    "%autoreload 2"
   ]
  },
  {
   "cell_type": "markdown",
   "id": "3d50e4f1",
   "metadata": {},
   "source": [
    "## Générer des logs\n",
    "\n",
    "<a class='anchor' id='spart11'></a>\n",
    "\n",
    "L'idée générale est la sauvegarde d'informations dans des fichiers. Ce processus de sauvegarde s'appelle le logging."
   ]
  },
  {
   "cell_type": "markdown",
   "id": "9e89d1b8",
   "metadata": {},
   "source": [
    "### Logger des paramètres\n",
    "\n",
    "L'information la plus simple à logger est le paramètre. Un paramètre est un couple clef-valeur : la clef est un nom (une chaîne de caractère), et la valeur est un objet python de base (`float`, `string` etc.).\n",
    "\n",
    "**Exercice :** logger un paramètre `age`, contenant votre âge (en années).\n",
    "\n",
    "**Indice :** on utilisera la méthode [mlflow.log_param](https://www.mlflow.org/docs/latest/python_api/mlflow.html#mlflow.log_param)."
   ]
  },
  {
   "cell_type": "code",
   "execution_count": null,
   "id": "6e5d0f38",
   "metadata": {},
   "outputs": [],
   "source": [
    "pass"
   ]
  },
  {
   "cell_type": "markdown",
   "id": "7241451d",
   "metadata": {},
   "source": [
    "**Question :** Un nouveau répertoire vient d'être créé : où ça ? comment s'appelle-t-il ? où se trouve l'information loggée ?"
   ]
  },
  {
   "cell_type": "markdown",
   "id": "b8ad1f6a",
   "metadata": {},
   "source": [
    "### Naviguer dans l'interface graphique\n",
    "\n",
    "<a class='anchor' id='ui'></a>\n",
    "\n",
    "Dans toute la suite, les run [MLflow](https://mlflow.org/) seront visualisables via une interface graphique intégrée. Pour en profiter :\n",
    "* accédez au terminal\n",
    "* chargez votre environnement virtuel : `conda activate foodcast`\n",
    "* tapez `mlflow ui` **dans le répertoire de travail** (en l'occurrence : `notebooks/`)\n",
    "* copiez-collez l'adresse (a priori http://127.0.0.1:5000) dans votre navigateur web\n",
    "\n",
    "**Astuce :** ajoutez l'adresse à vos marque-page favoris.\n",
    "\n",
    "Cette interface graphique est simplement un utilitaire qui lit le répertoire `mlruns` créé par [MLflow](https://mlflow.org/).\n",
    "\n",
    "**Exercice :** retrouver l'information loggée en navigant dans l'interface graphique [MLflow](https://mlflow.org/)."
   ]
  },
  {
   "cell_type": "code",
   "execution_count": null,
   "id": "8b35a67c",
   "metadata": {},
   "outputs": [],
   "source": [
    "# Follow the steps above to achieve this exercise"
   ]
  },
  {
   "cell_type": "markdown",
   "id": "15a62468",
   "metadata": {},
   "source": [
    "**Exercice :** logger deux paramètres en une seule ligne de code : `age` (votre âge) et `age_voisin` (l'âge de votre voisin de gauche).\n",
    "\n",
    "**Indice :** on utilisera la méthode [mlflow.log_params](https://www.mlflow.org/docs/latest/python_api/mlflow.html#mlflow.log_params)."
   ]
  },
  {
   "cell_type": "code",
   "execution_count": null,
   "id": "d3a294c8",
   "metadata": {},
   "outputs": [],
   "source": [
    "pass"
   ]
  },
  {
   "cell_type": "markdown",
   "id": "4547a527",
   "metadata": {},
   "source": [
    "### Logger un modèle standard\n",
    "\n",
    "Au-delà des paramètres, [MLflow](https://mlflow.org/) fournit une convention pour stocker les modèles prédictifs.\n",
    "\n",
    "**Exercice :** logger un `RandomForestRegressor` quelconque dans un répertoire intitulé `my_random_forest`.\n",
    "\n",
    "**Indice :** on pourra se baser sur [mlflow.sklearn.log_model](https://www.mlflow.org/docs/latest/python_api/mlflow.sklearn.html#mlflow.sklearn.log_model)"
   ]
  },
  {
   "cell_type": "code",
   "execution_count": null,
   "id": "8bfa8da8",
   "metadata": {},
   "outputs": [],
   "source": [
    "pass"
   ]
  },
  {
   "cell_type": "markdown",
   "id": "79a8829b",
   "metadata": {},
   "source": [
    "**Question :** qu'est-ce qu'un modèle dans la convention [MLflow](https://mlflow.org/) ?"
   ]
  },
  {
   "cell_type": "markdown",
   "id": "e4dd6474",
   "metadata": {},
   "source": [
    "### Logger un modèle personnalisé\n",
    "\n",
    "Si vous voulez sortir des sentiers battus et logger un modèle fait maison, il doit hériter de la classe `PythonModel` de [MLflow](https://mlflow.org/) (c'est le cas par exemple de notre `MultiModel`). Par contre, pour logger ce modèle (et plus tard le déployer), il faut fournir des informations supplémentaires, à savoir :\n",
    "* le code qui permet de connaître l'API du modèle et de le désérialiser\n",
    "* les dépendances du modèles, renseignées sous la forme d'un environnement virtuel de déploiement.\n",
    "\n",
    "**Exercice :** logger un `MultiModel` quelconque dans un répertoire intitulé `my_multi_model`\n",
    "\n",
    "**Indice :** on pourra se baser sur [mlflow.pyfunc.log_model](https://www.mlflow.org/docs/latest/python_api/mlflow.pyfunc.html#mlflow.pyfunc.log_model). On prendra garde aux arguments :\n",
    "* `code_path` : chemin vers le module contenant la définition du modèle\n",
    "* `conda_env` : dictionnaire représentant l'environnement virtuel nécessaire au déploiement du modèle."
   ]
  },
  {
   "cell_type": "code",
   "execution_count": null,
   "id": "dc174ed8",
   "metadata": {},
   "outputs": [],
   "source": [
    "code_path=[os.path.join('..', 'foodcast', 'domain', 'multi_model.py')]\n",
    "conda_env={\n",
    "    'channels': ['defaults', 'conda-forge'],\n",
    "    'dependencies': [\n",
    "        'mlflow=1.8.0',\n",
    "        'numpy=1.17.4',\n",
    "        'python=3.7.6',\n",
    "        'scikit-learn=0.21.3',\n",
    "        'cloudpickle==1.3.0'\n",
    "    ],\n",
    "    'name': 'multi-model-env'\n",
    "}\n",
    "pass"
   ]
  },
  {
   "cell_type": "markdown",
   "id": "d67ed210",
   "metadata": {},
   "source": [
    "**Question :** quelles  différences avec le cas précédent dans `mlruns` ?"
   ]
  },
  {
   "cell_type": "markdown",
   "id": "869eb27f",
   "metadata": {},
   "source": [
    "### Logger des fichiers\n",
    "\n",
    "Enfin, pour tout le reste, [MLflow](https://mlflow.org/) permet de logger des fichiers. A titre d'illustration,  on se munit d'un dataframe, qui n'est ni un paramètre ni un modèle."
   ]
  },
  {
   "cell_type": "code",
   "execution_count": null,
   "id": "47d3930a",
   "metadata": {},
   "outputs": [],
   "source": [
    "data = etl(settings.DATA_DIR, 199, 200)"
   ]
  },
  {
   "cell_type": "markdown",
   "id": "0982263a",
   "metadata": {},
   "source": [
    "Comme [MLflow](https://mlflow.org/) ne fournit pas spécialement de méthode `log` pour les dataframes, il faut d'abord le sauvegarder dans un fichier et ensuite logger le fichier.\n",
    "\n",
    "**Exercice :** sauvegarder `data` dans un fichier `data.csv`.\n",
    "\n",
    "**Indice :** on ne sauvegardera par l'index."
   ]
  },
  {
   "cell_type": "code",
   "execution_count": null,
   "id": "8db2338f",
   "metadata": {},
   "outputs": [],
   "source": [
    "pass"
   ]
  },
  {
   "cell_type": "markdown",
   "id": "f38a4d87",
   "metadata": {},
   "source": [
    "**Exercice :** logger le fichier `data.csv` dans un répertoire `data`.\n",
    "\n",
    "**Indice :** on utilisera la méthode [mlflow.log_artifact](https://mlflow.org/docs/latest/python_api/mlflow.html#mlflow.log_artifact)."
   ]
  },
  {
   "cell_type": "code",
   "execution_count": null,
   "id": "c9436425",
   "metadata": {},
   "outputs": [],
   "source": [
    "pass"
   ]
  },
  {
   "cell_type": "markdown",
   "id": "8bf5bb7d",
   "metadata": {},
   "source": [
    "**Exercice :** supprimer le fichier `data.csv` qui se balade dans votre répertoire `notebooks`.\n",
    "\n",
    "**Indice :** vous pouvez lancer une commande du terminal directement dans une cellule jupyter, en la préfixant d'un `!`"
   ]
  },
  {
   "cell_type": "code",
   "execution_count": null,
   "id": "0f309734",
   "metadata": {},
   "outputs": [],
   "source": [
    "pass"
   ]
  },
  {
   "cell_type": "markdown",
   "id": "d93c7000",
   "metadata": {},
   "source": [
    "**Question :** est-ce que le fichier `data.csv` loggé est toujours dans `mlruns` ?"
   ]
  },
  {
   "cell_type": "markdown",
   "id": "03fb591b",
   "metadata": {},
   "source": [
    "### Point factorisation\n",
    "\n",
    "Un pattern va devenir récurrent avec [MLflow](https://mlflow.org/) : \n",
    "* sauvegarder des données en local\n",
    "* logger les données locales dans un run, via `log_artifact`\n",
    "\n",
    "L'inconvénient est que cela pollue inutilement le répertoire de travail avec des artéfacts. Pour pallier à ces problèmes, vous pouvez utiliser le module `mlflow_utils` (fait maison).\n",
    "\n",
    "Les fonctions `mlflow_log_pandas` et `mlflow_log_plotly` ont les mêmes arguments que `mlflow.log_artifact`, mais ne polluent pas le répertoire courant. A la place, les données intermédiaires (avant d'être loggées) sont stockées dans votre répertoire `/tmp`, qui est vidé à chaqe redémarrage de votre ordinateur."
   ]
  },
  {
   "cell_type": "code",
   "execution_count": null,
   "id": "1d9aad20",
   "metadata": {},
   "outputs": [],
   "source": [
    "mlflow_log_pandas??"
   ]
  },
  {
   "cell_type": "markdown",
   "id": "0e67a271",
   "metadata": {},
   "source": [
    "**Exercice :** logger le dataframe `data` dans `artifacts/data/data.csv` en utilisant `mlflow_log_pandas`."
   ]
  },
  {
   "cell_type": "code",
   "execution_count": null,
   "id": "8d371336",
   "metadata": {},
   "outputs": [],
   "source": [
    "pass"
   ]
  },
  {
   "cell_type": "markdown",
   "id": "06533cea",
   "metadata": {},
   "source": [
    "## Organiser les logs dans des runs\n",
    "\n",
    "<a class='anchor' id='spart12'></a>\n",
    "\n",
    "Pour l'instant, toutes nos opérations précédentes ont été loggées au même endroit. Si l'on relance les cellules précédentes, toutes les informations seront écrasées. C'est parce que nous avons travaillé jusqu'alors dans un seul et unique run.\n",
    "\n",
    "Les run sont la structure de base de [MLflow tracking](https://www.mlflow.org/docs/latest/tracking.html), et permettent des séparer les informations dans des répertoires différents.\n",
    "\n",
    "### Encapsuler les logs\n",
    "Afin d'obtenir un véritable historique des actions, il faut encapsuler les logs dans des runs.\n",
    "\n",
    "Tout d'abord, il faut terminer le run en cours."
   ]
  },
  {
   "cell_type": "code",
   "execution_count": null,
   "id": "0d6c28b6",
   "metadata": {},
   "outputs": [],
   "source": [
    "mlflow.end_run()"
   ]
  },
  {
   "cell_type": "markdown",
   "id": "6f9aa6f8",
   "metadata": {},
   "source": [
    "Ensuite, on peut utiliser les runs comme des ContextManager, avec le mot-clé `with`."
   ]
  },
  {
   "cell_type": "code",
   "execution_count": null,
   "id": "5b198b5b",
   "metadata": {},
   "outputs": [],
   "source": [
    "with mlflow.start_run():\n",
    "    mlflow_log_pandas(data, 'data', 'data.csv')"
   ]
  },
  {
   "cell_type": "markdown",
   "id": "cc9cdc62",
   "metadata": {},
   "source": [
    "**Exercice :** lancer la cellule précédente au moins deux fois."
   ]
  },
  {
   "cell_type": "code",
   "execution_count": null,
   "id": "df67ff6f",
   "metadata": {},
   "outputs": [],
   "source": [
    "# Come on, this is an easy one."
   ]
  },
  {
   "cell_type": "markdown",
   "id": "a24692a7",
   "metadata": {},
   "source": [
    "**Question :** en navigant dans l'interface graphique, que constatez-vous sur le contenu du répertoire `mlruns` ?"
   ]
  },
  {
   "cell_type": "markdown",
   "id": "d24b29a6",
   "metadata": {},
   "source": [
    "### Examiner un run\n",
    "En combinant `with` avec `as`, on peut sauvegarder le run dans une variable `my_run`. On peut même lui donner un nom `run_name`."
   ]
  },
  {
   "cell_type": "code",
   "execution_count": null,
   "id": "d3be4c25",
   "metadata": {},
   "outputs": [],
   "source": [
    "with mlflow.start_run(run_name='my_run_name') as my_run:\n",
    "    mlflow_log_pandas(data, 'data', 'data.csv')"
   ]
  },
  {
   "cell_type": "markdown",
   "id": "6f98a6f5",
   "metadata": {},
   "source": [
    "**Exercice :** retrouver l'id du run précédent sans utiliser l'interface graphique.\n",
    "\n",
    "**Indice :** on pourra utiliser l'[info du run](https://www.mlflow.org/docs/latest/python_api/mlflow.entities.html#mlflow.entities.Run)."
   ]
  },
  {
   "cell_type": "code",
   "execution_count": null,
   "id": "ca054ace",
   "metadata": {},
   "outputs": [],
   "source": [
    "pass"
   ]
  },
  {
   "cell_type": "markdown",
   "id": "3edd53cd",
   "metadata": {},
   "source": [
    "**Exercice :** retrouver le chemin complet où le run enregistre les artéfacts sans utiliser l'interface graphique.\n",
    "\n",
    "**Indice :** on pourra utiliser l'[info du run](https://www.mlflow.org/docs/latest/python_api/mlflow.entities.html#mlflow.entities.Run)."
   ]
  },
  {
   "cell_type": "code",
   "execution_count": null,
   "id": "3b0419bf",
   "metadata": {},
   "outputs": [],
   "source": [
    "pass"
   ]
  },
  {
   "cell_type": "markdown",
   "id": "129a752a",
   "metadata": {},
   "source": [
    "**Exercice :** retrouver le nom du run, sans utiliser l'interface graphique.\n",
    "\n",
    "**Indice :** on pourra utilise les [les tags du run](https://www.mlflow.org/docs/latest/python_api/mlflow.entities.html#mlflow.entities.Run)."
   ]
  },
  {
   "cell_type": "code",
   "execution_count": null,
   "id": "bb053629",
   "metadata": {},
   "outputs": [],
   "source": [
    "pass"
   ]
  },
  {
   "cell_type": "markdown",
   "id": "5d63ea07",
   "metadata": {},
   "source": [
    "## Organiser les runs dans des expériences\n",
    "\n",
    "<a class='anchor' id='spart13'></a>\n",
    "\n",
    "Plutôt que d'entasser tous les runs au même endroit, on peut les ranger dans des répertoires spécifiques, appelés expériences. L'expérience par défaut s'appelle `Default` dans l'interface graphique, et correspond au sous-répertoire `0` dans `mlruns`.\n",
    "\n",
    "**Astuce :** on peut penser les expériences comme des branches *features* dans git : dès que l'on cherche à développer une nouvelle fonctionalité, on crée une expérience correspondante, pour ne pas mélanger des runs qui n'ont rien à voir entre eux.\n",
    "\n",
    "### Créer une expérience\n",
    "\n",
    "On peut créer une expérience en python ou en ligne de commande.\n",
    "\n",
    "**Exercice :** créer une expérience intitulée `my_experiment`.\n",
    "\n",
    "**Indice :** la fonction [set_experiment](https://www.mlflow.org/docs/latest/python_api/mlflow.html#mlflow.set_experiment) permet de choisir une expérience par défaut si elle existe, et de la créer le cas échéant."
   ]
  },
  {
   "cell_type": "code",
   "execution_count": null,
   "id": "c41609b0",
   "metadata": {},
   "outputs": [],
   "source": [
    "pass"
   ]
  },
  {
   "cell_type": "markdown",
   "id": "75f7896f",
   "metadata": {},
   "source": [
    "### Choisir une expérience\n",
    "\n",
    "Le choix de l'expérience peut se faire au moment de l'exécution d'un run via l'argument `experiment_id` de `start_run`. Toutefois, maintenant que `my_experiment` est l'expérience par défaut, il n'y a même pas besoin de s'embêter !\n",
    "\n",
    "**Exercice :** reprendre le dernier run que vous avez effectué et l'exécuter dans l'expérience `my_experiment`."
   ]
  },
  {
   "cell_type": "code",
   "execution_count": null,
   "id": "2f7ac7de",
   "metadata": {},
   "outputs": [],
   "source": [
    "# Come on, the code is elsewhere"
   ]
  },
  {
   "cell_type": "markdown",
   "id": "b47a0f94",
   "metadata": {},
   "source": [
    "**Question :** que s'est-il passé dans l'interface graphique ?"
   ]
  },
  {
   "cell_type": "markdown",
   "id": "f1cbab0c",
   "metadata": {},
   "source": [
    "### Supprimer une expérience\n",
    "\n",
    "La manière la plus sûre et définitive de supprimer une expérience est de supprimer le répertoire correspondant dans `mlruns` ainsi que le contenu de `mlruns/.trash`.\n",
    "\n",
    "**Exercice :** supprimer l'expérience `my_experiment`.\n",
    "\n",
    "**Indice :** on peut lancer une commande unix dans une cellule jupyter avec le préfixe `!`"
   ]
  },
  {
   "cell_type": "code",
   "execution_count": null,
   "id": "21f3fc24",
   "metadata": {},
   "outputs": [],
   "source": [
    "pass"
   ]
  },
  {
   "cell_type": "markdown",
   "id": "d9bf0fbb",
   "metadata": {},
   "source": [
    "**Question :** est-ce que l'expérience apparaît encore dans l'interface graphique ?"
   ]
  },
  {
   "cell_type": "markdown",
   "id": "877ae279",
   "metadata": {},
   "source": [
    "___\n",
    "# Chaîne de traitement foodcast avec MLflow\n",
    "\n",
    "<a class='anchor' id='part2'></a>\n",
    "\n",
    "Pour rappel, le scénario est celui d'une prévision hebdomadaire de chiffre d'affaires. Le jeu d'entraînement est une fenêtre glissante par pas d'une semaine, et le jeu de prédiction est toujours la semaine suivante."
   ]
  },
  {
   "cell_type": "code",
   "execution_count": null,
   "id": "be75c96a",
   "metadata": {},
   "outputs": [],
   "source": [
    "import os\n",
    "import sys\n",
    "sys.path.append('..')\n",
    "import yaml\n",
    "import logging\n",
    "import logging.config\n",
    "from foodcast.domain.transform import etl\n",
    "from foodcast.domain.feature_engineering import features_offline, features_online\n",
    "from foodcast.domain.forecast import span_future, cross_validate, plotly_predictions\n",
    "from foodcast.domain.multi_model import MultiModel\n",
    "from foodcast.application.mlflow_utils import mlflow_log_pandas, mlflow_log_plotly\n",
    "from sklearn.ensemble import RandomForestRegressor\n",
    "import foodcast.settings as settings\n",
    "import mlflow\n",
    "import mlflow.sklearn\n",
    "import mlflow.pyfunc\n",
    "\n",
    "with open(settings.LOGGING_CONFIGURATION_FILE, 'r') as f:\n",
    "    logging.config.dictConfig(yaml.safe_load(f.read()))\n",
    "\n",
    "%load_ext autoreload\n",
    "%autoreload 2"
   ]
  },
  {
   "cell_type": "markdown",
   "id": "6e7a783f",
   "metadata": {},
   "source": [
    "Si ce notebook était \"mis en production\", il faudrait le relancer chaque semaine en mettant à jour les paramètres suivants :\n",
    "* `start_week`: le numéro de la première semaine d'entraînement,\n",
    "* `end_week` : le numéro de la dernière semaine d'entraînement,\n",
    "* `next_week` : le numéro de la semaine de prédiction."
   ]
  },
  {
   "cell_type": "code",
   "execution_count": null,
   "id": "062f11d2",
   "metadata": {},
   "outputs": [],
   "source": [
    "start_week = 180\n",
    "end_week = 200\n",
    "next_week = 201"
   ]
  },
  {
   "cell_type": "markdown",
   "id": "ede9b0e3",
   "metadata": {},
   "source": [
    "## Création et sélection d'une expérience dédiée\n",
    "Avant de commencer, on se propose de créer une expérience foodcast dédiée."
   ]
  },
  {
   "cell_type": "code",
   "execution_count": null,
   "id": "c7a4fde7",
   "metadata": {},
   "outputs": [],
   "source": [
    "mlflow.set_experiment('foodcast')"
   ]
  },
  {
   "cell_type": "markdown",
   "id": "4618a941",
   "metadata": {},
   "source": [
    "## Astuce\n",
    "\n",
    "Dans la suite, on prendra garde à ce que les premières lignes de code après le `with mlflow.start_run()` soit celles qui loggent les paramètres du run. En cas de crash, vous aurez loggé l'information et pourrez plus facilement investiguer."
   ]
  },
  {
   "cell_type": "markdown",
   "id": "265e2617",
   "metadata": {},
   "source": [
    "## Loading\n",
    "\n",
    "<a class='anchor' id='spart21'></a>\n",
    "\n",
    "Chargement et nettoyage des données d'entraînement sur la fenêtre glissante définie précédemment. Les données sont l'historique de chiffre d'affaires des deux restaurants considérés sur la fenêtre glissante d'entraînement définie au début de ce notebook.\n",
    "\n",
    "**Exercice :** créer un run [MLflow](https://mlflow.org/) qui :\n",
    "* s'intitule `load`\n",
    "* log les paramètres `start_week` et `end_week`\n",
    "* charge et nettoie les données d'entrée `data` via la fonction `etl`\n",
    "* log `data` dans `data/data.csv`."
   ]
  },
  {
   "cell_type": "code",
   "execution_count": null,
   "id": "13148d03",
   "metadata": {},
   "outputs": [],
   "source": [
    "pass"
   ]
  },
  {
   "cell_type": "markdown",
   "id": "c644189b",
   "metadata": {},
   "source": [
    "## Offline feature engineering\n",
    "\n",
    "<a class='anchor' id='spart22'></a>\n",
    "\n",
    "Feature engineering et séparation train/test.\n",
    "\n",
    "**Exercice :** créer un run [MLflow](https://mlflow.org/) qui :\n",
    "* s'intitule `features`\n",
    "* log les paramètres `start_week` et `end_week`\n",
    "* effectue le feature engineering via la fonction `features_offline`\n",
    "* effecture la séparation variable/cible `x_train` / `y_train`\n",
    "* log les dataframes obtenus dans `training_set/x_train.csv` et `training_set/y_train.csv`\n",
    "* passe la date des événements en index pour `x_train` et `y_train`"
   ]
  },
  {
   "cell_type": "code",
   "execution_count": null,
   "id": "f1e75a3a",
   "metadata": {},
   "outputs": [],
   "source": [
    "with mlflow.start_run(run_name='features'):\n",
    "    # TODO: log parameters\n",
    "    train = None\n",
    "    x_train, y_train = None, None\n",
    "    # TODO: log x_train\n",
    "    # TODO: log y_train\n",
    "    # x_train = x_train.set_index('order_date')\n",
    "    # y_train = y_train.set_index('order_date')['cash_in']"
   ]
  },
  {
   "cell_type": "markdown",
   "id": "4211f73f",
   "metadata": {},
   "source": [
    "## Validating\n",
    "\n",
    "<a class='anchor' id='spart23'></a>\n",
    "\n",
    "Instanciation du modèle et validation croisée chronologique.\n",
    "\n",
    "**Exercice :** créer un run [MLflow](https://mlflow.org/) qui :\n",
    "* s'intitule `validate`\n",
    "* log les paramètres `start_week`, `end_week`, `n_fold`, `n_estimators`, `n_models`\n",
    "* instancie un `MultiModel` random forest (`n_estimators=10`, `n_models=10`)\n",
    "* valide le modèle par validation croisée temporelle (10-fold) via la fonction `cross_validate`\n",
    "* log les prédictions obtenues dans `cross_validation/predictions.csv` (ne pas oublier de `reset_index()`)\n",
    "* log la figure obtenue via `plotly_predictions` dans `plots/validation.html`\n",
    "* log les métriques MAE minimum et maximum pour chaque étape de validation\n",
    "* log les métriques MAE pour chaque estimateur du multi-modèle pour chaque étape de validation"
   ]
  },
  {
   "cell_type": "code",
   "execution_count": null,
   "id": "54523386",
   "metadata": {},
   "outputs": [],
   "source": [
    "with mlflow.start_run(run_name='validate'):\n",
    "    n_fold = 10\n",
    "    n_estimators = 10\n",
    "    n_models = 10\n",
    "    # TODO: log parameters\n",
    "    model = None\n",
    "    maes, preds_train = None, None\n",
    "    # TODO: log preds_train.reset_index()\n",
    "    fig = None\n",
    "    # TODO: log fig with mlflow_log_plotly\n",
    "    # for i, mae in enumerate(maes):\n",
    "    #     mlflow.log_metric('MAE_MIN', mae.min(), step=i)\n",
    "    #     mlflow.log_metric('MAE_MAX', mae.max(), step=i)\n",
    "    #     for j, result in enumerate(mae):\n",
    "    #         mlflow.log_metric('MAE{}'.format(j), result, step=i)"
   ]
  },
  {
   "cell_type": "markdown",
   "id": "966a4566",
   "metadata": {},
   "source": [
    "**Exercice :** visualiser la plage de MAEs possible dans l'interface graphique. On considèrera la vue `step`."
   ]
  },
  {
   "cell_type": "code",
   "execution_count": null,
   "id": "bf6a11c2",
   "metadata": {},
   "outputs": [],
   "source": [
    "fig"
   ]
  },
  {
   "cell_type": "markdown",
   "id": "d69285bf",
   "metadata": {},
   "source": [
    "## Training\n",
    "\n",
    "<a class='anchor' id='spart24'></a>\n",
    "\n",
    "Entraînement du modèle sur la totalité du jeu d'entraînement.\n",
    "\n",
    "**Exercice :** créer un run [MLflow](https://mlflow.org/) qui :\n",
    "* s'intitule `train`\n",
    "* log les paramètres `start_week`, `end_week`, `n_estimators`, `n_models`\n",
    "* entraîne le multi-modèle sur le jeu d'entraînement `x_train / y_train`\n",
    "* log son attribut `single_estimator`, qui est un modèle scikit-learn standard, dans le répertoire `simple_model`\n",
    "* log le modèle complet, qui est un modèle personnalisé, dans le répertoire `multi_model`"
   ]
  },
  {
   "cell_type": "code",
   "execution_count": null,
   "id": "4cef92af",
   "metadata": {},
   "outputs": [],
   "source": [
    "pass"
   ]
  },
  {
   "cell_type": "markdown",
   "id": "5e285457",
   "metadata": {},
   "source": [
    "## Online feature engineering\n",
    "\n",
    "<a class='anchor' id='spart25'></a>\n",
    "\n",
    "Feature engineering et construction du jeu de prédiction.\n",
    "\n",
    "**Exercice :** créer un run [MLflow](https://mlflow.org/) qui :\n",
    "* s'intitule `future`\n",
    "* log le paramètre `next_week`\n",
    "* charge et nettoie un passé récent d'une semaine `past` pour calculer les lags de chiffre d'affaire, via la fonction `etl`\n",
    "* génère jeu de prédiction `x_pred` via la fonction `span_future`\n",
    "* effectue le feature engineering online via la fonction `features_online`\n",
    "* log le jeu de prédiction obtenu dans `prediction_set/x_pred.csv`"
   ]
  },
  {
   "cell_type": "code",
   "execution_count": null,
   "id": "c7111acf",
   "metadata": {},
   "outputs": [],
   "source": [
    "with mlflow.start_run(run_name='future'):\n",
    "    # TODO: log parameters\n",
    "    past = etl(settings.DATA_DIR, next_week - 1, next_week - 1)\n",
    "    x_pred = span_future(past['order_date'].max())\n",
    "    x_pred = None\n",
    "    # TODO: log x_pred"
   ]
  },
  {
   "cell_type": "markdown",
   "id": "0face85e",
   "metadata": {},
   "source": [
    "## Predicting\n",
    "\n",
    "<a class='anchor' id='spart26'></a>\n",
    "\n",
    "Prédiction du modèle sur la semaine suivante.\n",
    "\n",
    "**Exercice :** créer un run [MLflow](https://mlflow.org/) qui :\n",
    "* s'intitule `predict`\n",
    "* log les paramètres `next_week`, `start_week`, `end_week`, `n_estimators`, `n_models`\n",
    "* passe la date en index dans `x_pred`\n",
    "* prédise la chiffre d'affaires `y_pred` sur `x_pred`\n",
    "* log les prédictions dans `predictions/y_pred.csv` (ne pas oublier de `reset_index()`)\n",
    "* log la figure obtenue via `plotly_predictions` dans `plots/predictions.html`"
   ]
  },
  {
   "cell_type": "code",
   "execution_count": null,
   "id": "0114cd7d",
   "metadata": {},
   "outputs": [],
   "source": [
    "with mlflow.start_run(run_name='predict'):\n",
    "    # TODO: log parameters\n",
    "    # x_pred = x_pred.set_index('order_date')\n",
    "    y_pred = None\n",
    "    # log y_pred.reset_index()\n",
    "    fig = None\n",
    "    # log fig with mlflow_log_plotly"
   ]
  },
  {
   "cell_type": "code",
   "execution_count": null,
   "id": "b8594d3f",
   "metadata": {},
   "outputs": [],
   "source": [
    "fig"
   ]
  },
  {
   "cell_type": "markdown",
   "id": "17b9a72a",
   "metadata": {},
   "source": [
    "# Félicitations !\n",
    "\n",
    "Vous maîtrisez maintenant la partie [tracking](https://www.mlflow.org/docs/latest/tracking.html) et la partie [model flavours](https://www.mlflow.org/docs/latest/tracking.html) de MLflow !\n",
    "\n",
    "### Pour aller plus loin\n",
    "\n",
    "Les points qu'ils nous restent à aborder dans cette formation sont :\n",
    "* l'intégration avec le Template de Code\n",
    "* l'implémentation d'une chaîne de traitement automatisée\n",
    "* le déploiement de modèles sur un serveur"
   ]
  },
  {
   "cell_type": "code",
   "execution_count": null,
   "id": "a3e99580",
   "metadata": {},
   "outputs": [],
   "source": []
  }
 ],
 "metadata": {
  "jupytext": {
   "formats": "ipynb,md"
  },
  "kernelspec": {
   "display_name": "foodcast",
   "language": "python",
   "name": "foodcast"
  }
 },
 "nbformat": 4,
 "nbformat_minor": 5
}
