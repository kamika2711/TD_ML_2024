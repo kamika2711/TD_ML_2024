{
 "cells": [
  {
   "cell_type": "code",
   "execution_count": 1,
   "id": "a1047741",
   "metadata": {},
   "outputs": [],
   "source": [
    "import pandas as pd\n",
    "import numpy as np\n",
    "import matplotlib.pyplot as plt\n",
    "import os"
   ]
  },
  {
   "cell_type": "markdown",
   "id": "e59057d0",
   "metadata": {},
   "source": [
    "# code pour importer les différents fichiers"
   ]
  },
  {
   "cell_type": "code",
   "execution_count": 2,
   "id": "3f8212a2",
   "metadata": {},
   "outputs": [],
   "source": [
    "def extract(data_dir, prefix, start_week, end_week):\n",
    "    \"\"\" Extract a temporal slice of data for a given data source.\n",
    "    \n",
    "    Parameters\n",
    "    ----------\n",
    "    data_dir: str\n",
    "        Data directory path.\n",
    "    start_week: int\n",
    "        First week number (included)\n",
    "    end_week: int\n",
    "        Last week number (included)\n",
    "    prefix: str\n",
    "        Data source identification (e.g. restaurant_1)\n",
    "    \"\"\"\n",
    "    df = pd.DataFrame()\n",
    "    \n",
    "    for i in range(start_week, end_week+1):\n",
    "        file_path = os.path.join(data_dir, 'data', f'{prefix}_week_{i}.csv')\n",
    "\n",
    "        if os.path.isfile(file_path):\n",
    "            batch = pd.read_csv(file_path)\n",
    "            df = pd.concat([df, batch], sort=True)\n",
    "    \n",
    "    return df\n",
    "\n",
    "def clean(df):\n",
    "    \"\"\"Clean dataframe.\"\"\"\n",
    "    \n",
    "    df.columns = df.columns.str.lower().str.replace(' ', '_')\n",
    "    df['order_date'] = pd.to_datetime(df['order_date'])\n",
    "    df = df.rename(columns={'order_number': 'order_id'})\n",
    "    df = df.sort_values('order_date')\n",
    "    df['total_product_price'] = df['quantity'] * df['product_price']\n",
    "    df['cash_in'] = df.groupby('order_id')['total_product_price'].transform(np.sum)\n",
    "    df = df.drop(columns=['item_name', 'quantity', 'product_price', \n",
    "                          'total_products', 'total_product_price'],\n",
    "                errors=\"ignore\")\n",
    "    df = df.drop_duplicates()\n",
    "    df = df.reset_index(drop=True)\n",
    "    return df\n",
    "\n",
    "def merge(df1, df2):\n",
    "    df = pd.concat([df1, df2])\n",
    "    df = df.drop(columns = ['order_id'])\n",
    "    df = df.sort_values('order_date')\n",
    "    df = df.reset_index(drop=True)\n",
    "    return df\n",
    "\n",
    "def resample(df): \n",
    "    df = df.resample('1H', on='order_date').sum().reset_index()\n",
    "    return df"
   ]
  },
  {
   "cell_type": "markdown",
   "id": "9aeb0a11",
   "metadata": {},
   "source": [
    "# Extraire tous les fichiers du restaurant 1 entre deux dates \n",
    "+ creation notion ca"
   ]
  },
  {
   "cell_type": "code",
   "execution_count": 5,
   "id": "ccc034e2",
   "metadata": {},
   "outputs": [
    {
     "name": "stderr",
     "output_type": "stream",
     "text": [
      "C:\\Users\\182700\\AppData\\Local\\Temp\\ipykernel_8244\\1340823922.py:34: FutureWarning: The provided callable <function sum at 0x000002DAFEA423E0> is currently using SeriesGroupBy.sum. In a future version of pandas, the provided callable will be used directly. To keep current behavior pass the string \"sum\" instead.\n",
      "  df['cash_in'] = df.groupby('order_id')['total_product_price'].transform(np.sum)\n"
     ]
    }
   ],
   "source": [
    "# Restaurant 1\n",
    "df1 = extract(data_dir= \"C:/Users/182700/Documents/MLOPS/TD_ML_2024\",\n",
    "       prefix=\"restaurant_1\" , start_week=108, end_week=110)\n",
    "df1 = clean(df1)"
   ]
  },
  {
   "cell_type": "markdown",
   "id": "5f3c72c4",
   "metadata": {},
   "source": [
    "# Extraire tous les fichiers du restaurant 2 entre deux dates\n",
    "+ creation notion ca"
   ]
  },
  {
   "cell_type": "code",
   "execution_count": 6,
   "id": "67dd5f59",
   "metadata": {},
   "outputs": [
    {
     "name": "stderr",
     "output_type": "stream",
     "text": [
      "C:\\Users\\182700\\AppData\\Local\\Temp\\ipykernel_8244\\1340823922.py:34: FutureWarning: The provided callable <function sum at 0x000002DAFEA423E0> is currently using SeriesGroupBy.sum. In a future version of pandas, the provided callable will be used directly. To keep current behavior pass the string \"sum\" instead.\n",
      "  df['cash_in'] = df.groupby('order_id')['total_product_price'].transform(np.sum)\n"
     ]
    }
   ],
   "source": [
    "# Restaurant 2\n",
    "df2 = extract(data_dir= \"C:/Users/182700/Documents/MLOPS/TD_ML_2024\",\n",
    "       prefix=\"restaurant_2\" , start_week=108, end_week=110)\n",
    "df2 = clean(df2)"
   ]
  },
  {
   "cell_type": "markdown",
   "id": "5eb33a47",
   "metadata": {},
   "source": [
    "# Fusionner les fichiers du resto 1 et 2"
   ]
  },
  {
   "cell_type": "code",
   "execution_count": 7,
   "id": "e2b63b63",
   "metadata": {},
   "outputs": [
    {
     "data": {
      "text/html": [
       "<div>\n",
       "<style scoped>\n",
       "    .dataframe tbody tr th:only-of-type {\n",
       "        vertical-align: middle;\n",
       "    }\n",
       "\n",
       "    .dataframe tbody tr th {\n",
       "        vertical-align: top;\n",
       "    }\n",
       "\n",
       "    .dataframe thead th {\n",
       "        text-align: right;\n",
       "    }\n",
       "</style>\n",
       "<table border=\"1\" class=\"dataframe\">\n",
       "  <thead>\n",
       "    <tr style=\"text-align: right;\">\n",
       "      <th></th>\n",
       "      <th>order_date</th>\n",
       "      <th>cash_in</th>\n",
       "    </tr>\n",
       "  </thead>\n",
       "  <tbody>\n",
       "    <tr>\n",
       "      <th>0</th>\n",
       "      <td>2017-01-23 16:01:00</td>\n",
       "      <td>35.75</td>\n",
       "    </tr>\n",
       "    <tr>\n",
       "      <th>1</th>\n",
       "      <td>2017-01-23 16:54:00</td>\n",
       "      <td>44.65</td>\n",
       "    </tr>\n",
       "    <tr>\n",
       "      <th>2</th>\n",
       "      <td>2017-01-23 17:33:00</td>\n",
       "      <td>37.70</td>\n",
       "    </tr>\n",
       "    <tr>\n",
       "      <th>3</th>\n",
       "      <td>2017-01-23 17:52:00</td>\n",
       "      <td>29.00</td>\n",
       "    </tr>\n",
       "    <tr>\n",
       "      <th>4</th>\n",
       "      <td>2017-01-23 18:07:00</td>\n",
       "      <td>37.70</td>\n",
       "    </tr>\n",
       "    <tr>\n",
       "      <th>...</th>\n",
       "      <td>...</td>\n",
       "      <td>...</td>\n",
       "    </tr>\n",
       "    <tr>\n",
       "      <th>518</th>\n",
       "      <td>2017-02-12 21:06:00</td>\n",
       "      <td>17.75</td>\n",
       "    </tr>\n",
       "    <tr>\n",
       "      <th>519</th>\n",
       "      <td>2017-02-12 21:16:00</td>\n",
       "      <td>19.85</td>\n",
       "    </tr>\n",
       "    <tr>\n",
       "      <th>520</th>\n",
       "      <td>2017-02-12 21:25:00</td>\n",
       "      <td>19.75</td>\n",
       "    </tr>\n",
       "    <tr>\n",
       "      <th>521</th>\n",
       "      <td>2017-02-12 21:30:00</td>\n",
       "      <td>47.15</td>\n",
       "    </tr>\n",
       "    <tr>\n",
       "      <th>522</th>\n",
       "      <td>2017-02-12 21:40:00</td>\n",
       "      <td>43.25</td>\n",
       "    </tr>\n",
       "  </tbody>\n",
       "</table>\n",
       "<p>523 rows × 2 columns</p>\n",
       "</div>"
      ],
      "text/plain": [
       "             order_date  cash_in\n",
       "0   2017-01-23 16:01:00    35.75\n",
       "1   2017-01-23 16:54:00    44.65\n",
       "2   2017-01-23 17:33:00    37.70\n",
       "3   2017-01-23 17:52:00    29.00\n",
       "4   2017-01-23 18:07:00    37.70\n",
       "..                  ...      ...\n",
       "518 2017-02-12 21:06:00    17.75\n",
       "519 2017-02-12 21:16:00    19.85\n",
       "520 2017-02-12 21:25:00    19.75\n",
       "521 2017-02-12 21:30:00    47.15\n",
       "522 2017-02-12 21:40:00    43.25\n",
       "\n",
       "[523 rows x 2 columns]"
      ]
     },
     "execution_count": 7,
     "metadata": {},
     "output_type": "execute_result"
    }
   ],
   "source": [
    "df = merge(df1, df2)\n",
    "df"
   ]
  },
  {
   "cell_type": "markdown",
   "id": "9054c2ec",
   "metadata": {},
   "source": [
    "# Modification de l'heure "
   ]
  },
  {
   "cell_type": "code",
   "execution_count": 8,
   "id": "d5f218e2",
   "metadata": {},
   "outputs": [
    {
     "name": "stderr",
     "output_type": "stream",
     "text": [
      "C:\\Users\\182700\\AppData\\Local\\Temp\\ipykernel_8244\\1340823922.py:50: FutureWarning: 'H' is deprecated and will be removed in a future version, please use 'h' instead.\n",
      "  df = df.resample('1H', on='order_date').sum().reset_index()\n"
     ]
    },
    {
     "data": {
      "text/html": [
       "<div>\n",
       "<style scoped>\n",
       "    .dataframe tbody tr th:only-of-type {\n",
       "        vertical-align: middle;\n",
       "    }\n",
       "\n",
       "    .dataframe tbody tr th {\n",
       "        vertical-align: top;\n",
       "    }\n",
       "\n",
       "    .dataframe thead th {\n",
       "        text-align: right;\n",
       "    }\n",
       "</style>\n",
       "<table border=\"1\" class=\"dataframe\">\n",
       "  <thead>\n",
       "    <tr style=\"text-align: right;\">\n",
       "      <th></th>\n",
       "      <th>order_date</th>\n",
       "      <th>cash_in</th>\n",
       "    </tr>\n",
       "  </thead>\n",
       "  <tbody>\n",
       "    <tr>\n",
       "      <th>0</th>\n",
       "      <td>2017-01-23 16:00:00</td>\n",
       "      <td>80.40</td>\n",
       "    </tr>\n",
       "    <tr>\n",
       "      <th>1</th>\n",
       "      <td>2017-01-23 17:00:00</td>\n",
       "      <td>66.70</td>\n",
       "    </tr>\n",
       "    <tr>\n",
       "      <th>2</th>\n",
       "      <td>2017-01-23 18:00:00</td>\n",
       "      <td>64.00</td>\n",
       "    </tr>\n",
       "    <tr>\n",
       "      <th>3</th>\n",
       "      <td>2017-01-23 19:00:00</td>\n",
       "      <td>219.05</td>\n",
       "    </tr>\n",
       "    <tr>\n",
       "      <th>4</th>\n",
       "      <td>2017-01-23 20:00:00</td>\n",
       "      <td>111.25</td>\n",
       "    </tr>\n",
       "  </tbody>\n",
       "</table>\n",
       "</div>"
      ],
      "text/plain": [
       "           order_date  cash_in\n",
       "0 2017-01-23 16:00:00    80.40\n",
       "1 2017-01-23 17:00:00    66.70\n",
       "2 2017-01-23 18:00:00    64.00\n",
       "3 2017-01-23 19:00:00   219.05\n",
       "4 2017-01-23 20:00:00   111.25"
      ]
     },
     "execution_count": 8,
     "metadata": {},
     "output_type": "execute_result"
    }
   ],
   "source": [
    "df = resample(df)\n",
    "df.head()"
   ]
  },
  {
   "cell_type": "markdown",
   "id": "416405d3",
   "metadata": {},
   "source": [
    "# Création du graphique permettant de visualiser le CA en fonction du jour et de l'heure "
   ]
  },
  {
   "cell_type": "code",
   "execution_count": 9,
   "id": "7deff3ca",
   "metadata": {},
   "outputs": [
    {
     "data": {
      "image/png": "[encoded data removed]",
      "text/plain": [
       "<Figure size 1000x500 with 1 Axes>"
      ]
     },
     "metadata": {},
     "output_type": "display_data"
    }
   ],
   "source": [
    "fig, ax = plt.subplots(1,1, figsize=(10,5))\n",
    "ax.plot(df['order_date'], df['cash_in'])\n",
    "ax.set_title('Chiffre d affaire des restaurants en fonction du temps')\n",
    "ax.set_xlabel('Temps')\n",
    "ax.set_ylabel('cash in')\n",
    "plt.grid(True)"
   ]
  },
  {
   "cell_type": "markdown",
   "id": "a7af3d28",
   "metadata": {},
   "source": [
    "# Création de feature : \n",
    "jour de la semaine, heure, mois, CA à Week-1"
   ]
  },
  {
   "cell_type": "code",
   "execution_count": 12,
   "id": "0160b2dd",
   "metadata": {},
   "outputs": [],
   "source": [
    "df['day'] = df['order_date'].dt.day\n",
    "df['month'] = df['order_date'].dt.month\n",
    "df['hour'] = df['order_date'].dt.hour"
   ]
  },
  {
   "cell_type": "code",
   "execution_count": 13,
   "id": "b22f02b0",
   "metadata": {},
   "outputs": [
    {
     "data": {
      "text/html": [
       "<div>\n",
       "<style scoped>\n",
       "    .dataframe tbody tr th:only-of-type {\n",
       "        vertical-align: middle;\n",
       "    }\n",
       "\n",
       "    .dataframe tbody tr th {\n",
       "        vertical-align: top;\n",
       "    }\n",
       "\n",
       "    .dataframe thead th {\n",
       "        text-align: right;\n",
       "    }\n",
       "</style>\n",
       "<table border=\"1\" class=\"dataframe\">\n",
       "  <thead>\n",
       "    <tr style=\"text-align: right;\">\n",
       "      <th></th>\n",
       "      <th>order_date</th>\n",
       "      <th>cash_in</th>\n",
       "      <th>day</th>\n",
       "      <th>month</th>\n",
       "      <th>hour</th>\n",
       "    </tr>\n",
       "  </thead>\n",
       "  <tbody>\n",
       "    <tr>\n",
       "      <th>0</th>\n",
       "      <td>2017-01-23 16:00:00</td>\n",
       "      <td>80.40</td>\n",
       "      <td>23</td>\n",
       "      <td>1</td>\n",
       "      <td>16</td>\n",
       "    </tr>\n",
       "    <tr>\n",
       "      <th>1</th>\n",
       "      <td>2017-01-23 17:00:00</td>\n",
       "      <td>66.70</td>\n",
       "      <td>23</td>\n",
       "      <td>1</td>\n",
       "      <td>17</td>\n",
       "    </tr>\n",
       "    <tr>\n",
       "      <th>2</th>\n",
       "      <td>2017-01-23 18:00:00</td>\n",
       "      <td>64.00</td>\n",
       "      <td>23</td>\n",
       "      <td>1</td>\n",
       "      <td>18</td>\n",
       "    </tr>\n",
       "    <tr>\n",
       "      <th>3</th>\n",
       "      <td>2017-01-23 19:00:00</td>\n",
       "      <td>219.05</td>\n",
       "      <td>23</td>\n",
       "      <td>1</td>\n",
       "      <td>19</td>\n",
       "    </tr>\n",
       "    <tr>\n",
       "      <th>4</th>\n",
       "      <td>2017-01-23 20:00:00</td>\n",
       "      <td>111.25</td>\n",
       "      <td>23</td>\n",
       "      <td>1</td>\n",
       "      <td>20</td>\n",
       "    </tr>\n",
       "  </tbody>\n",
       "</table>\n",
       "</div>"
      ],
      "text/plain": [
       "           order_date  cash_in  day  month  hour\n",
       "0 2017-01-23 16:00:00    80.40   23      1    16\n",
       "1 2017-01-23 17:00:00    66.70   23      1    17\n",
       "2 2017-01-23 18:00:00    64.00   23      1    18\n",
       "3 2017-01-23 19:00:00   219.05   23      1    19\n",
       "4 2017-01-23 20:00:00   111.25   23      1    20"
      ]
     },
     "execution_count": 13,
     "metadata": {},
     "output_type": "execute_result"
    }
   ],
   "source": [
    "df.head(5)\n"
   ]
  },
  {
   "cell_type": "code",
   "execution_count": null,
   "id": "a3af11ad",
   "metadata": {},
   "outputs": [],
   "source": []
  }
 ],
 "metadata": {
  "kernelspec": {
   "display_name": "Python 3 (ipykernel)",
   "language": "python",
   "name": "python3"
  },
  "language_info": {
   "codemirror_mode": {
    "name": "ipython",
    "version": 3
   },
   "file_extension": ".py",
   "mimetype": "text/x-python",
   "name": "python",
   "nbconvert_exporter": "python",
   "pygments_lexer": "ipython3",
   "version": "3.11.9"
  }
 },
 "nbformat": 4,
 "nbformat_minor": 5
}
