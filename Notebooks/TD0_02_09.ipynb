{
 "cells": [
  {
   "cell_type": "markdown",
   "id": "6ac8b265",
   "metadata": {},
   "source": [
    "# exercice 3 "
   ]
  },
  {
   "cell_type": "code",
   "execution_count": 41,
   "id": "9b240364",
   "metadata": {},
   "outputs": [],
   "source": [
    "import numpy as np\n",
    "import matplotlib.pyplot as plt"
   ]
  },
  {
   "cell_type": "raw",
   "id": "97f7c3e5",
   "metadata": {},
   "source": [
    "création des vecteurs"
   ]
  },
  {
   "cell_type": "code",
   "execution_count": 32,
   "id": "a568513d",
   "metadata": {},
   "outputs": [
    {
     "data": {
      "text/plain": [
       "array([1, 2, 3])"
      ]
     },
     "execution_count": 32,
     "metadata": {},
     "output_type": "execute_result"
    }
   ],
   "source": [
    "a=np.array([1,2,3])\n",
    "a"
   ]
  },
  {
   "cell_type": "code",
   "execution_count": 21,
   "id": "640ce701",
   "metadata": {},
   "outputs": [
    {
     "data": {
      "text/plain": [
       "array([4, 5, 6])"
      ]
     },
     "execution_count": 21,
     "metadata": {},
     "output_type": "execute_result"
    }
   ],
   "source": [
    "b=np.array([4,5,6])\n",
    "b"
   ]
  },
  {
   "cell_type": "raw",
   "id": "a0c7e2dd",
   "metadata": {},
   "source": [
    "2) soustraire + ajouter a et b"
   ]
  },
  {
   "cell_type": "code",
   "execution_count": 22,
   "id": "4df372c3",
   "metadata": {},
   "outputs": [
    {
     "data": {
      "text/plain": [
       "array([5, 7, 9])"
      ]
     },
     "execution_count": 22,
     "metadata": {},
     "output_type": "execute_result"
    }
   ],
   "source": [
    "a+b"
   ]
  },
  {
   "cell_type": "code",
   "execution_count": 23,
   "id": "1040f6c6",
   "metadata": {},
   "outputs": [
    {
     "data": {
      "text/plain": [
       "array([-3, -3, -3])"
      ]
     },
     "execution_count": 23,
     "metadata": {},
     "output_type": "execute_result"
    }
   ],
   "source": [
    "a-b"
   ]
  },
  {
   "cell_type": "raw",
   "id": "36ae2389",
   "metadata": {},
   "source": [
    "3) ajouter 10"
   ]
  },
  {
   "cell_type": "code",
   "execution_count": 33,
   "id": "71e2098e",
   "metadata": {},
   "outputs": [
    {
     "data": {
      "text/plain": [
       "array([21, 22, 23])"
      ]
     },
     "execution_count": 33,
     "metadata": {},
     "output_type": "execute_result"
    }
   ],
   "source": [
    "a=a+np.array([10])\n",
    "a"
   ]
  },
  {
   "cell_type": "code",
   "execution_count": 31,
   "id": "24e7f464",
   "metadata": {},
   "outputs": [
    {
     "data": {
      "text/plain": [
       "array([24, 25, 26])"
      ]
     },
     "execution_count": 31,
     "metadata": {},
     "output_type": "execute_result"
    }
   ],
   "source": [
    "b=b+10\n",
    "b"
   ]
  },
  {
   "cell_type": "raw",
   "id": "3dab4ba3",
   "metadata": {},
   "source": [
    "4) comparer les deux vecteurs"
   ]
  },
  {
   "cell_type": "code",
   "execution_count": 29,
   "id": "15ff938a",
   "metadata": {},
   "outputs": [
    {
     "data": {
      "text/plain": [
       "array([False, False, False])"
      ]
     },
     "execution_count": 29,
     "metadata": {},
     "output_type": "execute_result"
    }
   ],
   "source": [
    "a==b"
   ]
  },
  {
   "cell_type": "code",
   "execution_count": 34,
   "id": "88229b30",
   "metadata": {},
   "outputs": [
    {
     "data": {
      "text/plain": [
       "array([21, 22, 23, 24, 25, 26])"
      ]
     },
     "execution_count": 34,
     "metadata": {},
     "output_type": "execute_result"
    }
   ],
   "source": [
    "np.concatenate((a,b))"
   ]
  },
  {
   "cell_type": "raw",
   "id": "0124f746",
   "metadata": {},
   "source": [
    "5) fonction x² "
   ]
  },
  {
   "cell_type": "code",
   "execution_count": null,
   "id": "920f470d",
   "metadata": {},
   "outputs": [],
   "source": [
    "x=np.arange(-10,10,0.5)\n",
    "y=x**2\n",
    "\n",
    "plt.plot(x,y)\n",
    "plt.show()"
   ]
  },
  {
   "cell_type": "raw",
   "id": "6abc5588",
   "metadata": {},
   "source": [
    "6) fonction 2x²+3x et -x² sur le meme graphique"
   ]
  },
  {
   "cell_type": "code",
   "execution_count": 47,
   "id": "240cde7a",
   "metadata": {},
   "outputs": [
    {
     "data": {
      "image/png": "[encoded data removed]",
      "text/plain": [
       "<Figure size 640x480 with 1 Axes>"
      ]
     },
     "metadata": {},
     "output_type": "display_data"
    }
   ],
   "source": [
    "x=np.arange(-10,10,0.5)\n",
    "y=-(x**2)\n",
    "w=2*x**2+3*x\n",
    "\n",
    "\n",
    "plt.plot(x,y)\n",
    "plt.plot(x,w)\n",
    "plt.show()"
   ]
  },
  {
   "cell_type": "code",
   "execution_count": null,
   "id": "03093d78",
   "metadata": {},
   "outputs": [],
   "source": []
  }
 ],
 "metadata": {
  "kernelspec": {
   "display_name": "Python 3 (ipykernel)",
   "language": "python",
   "name": "python3"
  },
  "language_info": {
   "codemirror_mode": {
    "name": "ipython",
    "version": 3
   },
   "file_extension": ".py",
   "mimetype": "text/x-python",
   "name": "python",
   "nbconvert_exporter": "python",
   "pygments_lexer": "ipython3",
   "version": "3.11.9"
  }
 },
 "nbformat": 4,
 "nbformat_minor": 5
}
